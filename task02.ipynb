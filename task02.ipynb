{
 "cells": [
  {
   "cell_type": "code",
   "execution_count": null,
   "id": "0b67c7f3",
   "metadata": {},
   "outputs": [],
   "source": [
    "# Измерены значения IQ выборки студентов,\n",
    "# обучающихся в местных технических вузах:\n",
    "\n",
    "# 131, 125, 115, 122, 131, 115, 107, 99, 125, 111.\n",
    "\n",
    "# Известно, что в генеральной совокупности IQ распределен нормально.\n",
    "\n",
    "# Найдите доверительный интервал для математического ожидания с надежностью 0.95."
   ]
  },
  {
   "cell_type": "code",
   "execution_count": 4,
   "id": "8811bb4d",
   "metadata": {},
   "outputs": [],
   "source": [
    "import numpy as np\n",
    "import scipy.stats as stats"
   ]
  },
  {
   "cell_type": "code",
   "execution_count": 5,
   "id": "f87cf080",
   "metadata": {},
   "outputs": [],
   "source": [
    "iq = np.array([131, 125, 115, 122, 131, 115, 107, 99, 125, 111])"
   ]
  },
  {
   "cell_type": "code",
   "execution_count": 6,
   "id": "ef56e7e9",
   "metadata": {},
   "outputs": [],
   "source": [
    "#  x + t(alpha/2)*sigma/sqrt(n)"
   ]
  },
  {
   "cell_type": "code",
   "execution_count": 7,
   "id": "61162de5",
   "metadata": {},
   "outputs": [
    {
     "data": {
      "text/plain": [
       "118.1"
      ]
     },
     "execution_count": 7,
     "metadata": {},
     "output_type": "execute_result"
    }
   ],
   "source": [
    "# найдем среднее арифметическое выборки x\n",
    "iq_avg = np.mean(iq)\n",
    "iq_avg"
   ]
  },
  {
   "cell_type": "code",
   "execution_count": 8,
   "id": "6752c91c",
   "metadata": {},
   "outputs": [
    {
     "data": {
      "text/plain": [
       "111.21111111111111"
      ]
     },
     "execution_count": 8,
     "metadata": {},
     "output_type": "execute_result"
    }
   ],
   "source": [
    "# найдем несмещенную дисперсию для выборки x\n",
    "D = np.var(iq, ddof=1)\n",
    "D"
   ]
  },
  {
   "cell_type": "code",
   "execution_count": 9,
   "id": "bb74d590",
   "metadata": {},
   "outputs": [
    {
     "data": {
      "text/plain": [
       "2.2621571627409915"
      ]
     },
     "execution_count": 9,
     "metadata": {},
     "output_type": "execute_result"
    }
   ],
   "source": [
    "# найдем t(alpha/2)\n",
    "t = stats.t.ppf(0.975, 9)\n",
    "t"
   ]
  },
  {
   "cell_type": "code",
   "execution_count": 10,
   "id": "81014f4c",
   "metadata": {},
   "outputs": [
    {
     "name": "stdout",
     "output_type": "stream",
     "text": [
      "Доверительный интервал (110.55608365158724, 125.64391634841274)\n"
     ]
    }
   ],
   "source": [
    "# доверительный интервал\n",
    "x1= iq_avg - t*np.sqrt(D/10)\n",
    "x2= iq_avg + t*np.sqrt(D/10)\n",
    "print(f'Доверительный интервал ({x1}, {x2})')"
   ]
  },
  {
   "cell_type": "code",
   "execution_count": null,
   "id": "dc503d2b",
   "metadata": {},
   "outputs": [],
   "source": []
  }
 ],
 "metadata": {
  "kernelspec": {
   "display_name": "Python 3 (ipykernel)",
   "language": "python",
   "name": "python3"
  },
  "language_info": {
   "codemirror_mode": {
    "name": "ipython",
    "version": 3
   },
   "file_extension": ".py",
   "mimetype": "text/x-python",
   "name": "python",
   "nbconvert_exporter": "python",
   "pygments_lexer": "ipython3",
   "version": "3.10.9"
  }
 },
 "nbformat": 4,
 "nbformat_minor": 5
}
