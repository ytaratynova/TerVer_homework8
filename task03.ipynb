{
 "cells": [
  {
   "cell_type": "code",
   "execution_count": null,
   "id": "bfb7b8ce",
   "metadata": {},
   "outputs": [],
   "source": [
    "# Известно, что рост футболистов в сборной распределен нормально с дисперсией генеральной совокупности, равной 25 кв.см. \n",
    "# Объем выборки равен 27, среднее выборочное составляет 174.2. \n",
    "# Найдите доверительный интервал для математического ожидания с надежностью 0.95."
   ]
  },
  {
   "cell_type": "code",
   "execution_count": 14,
   "id": "a4184be5",
   "metadata": {},
   "outputs": [],
   "source": [
    "import scipy.stats as stats\n",
    "import numpy as np"
   ]
  },
  {
   "cell_type": "code",
   "execution_count": 15,
   "id": "2b42625b",
   "metadata": {},
   "outputs": [],
   "source": [
    "sigma = 25 \n",
    "n = 27 \n",
    "M = 174.2 \n",
    "alpha = 0.05"
   ]
  },
  {
   "cell_type": "code",
   "execution_count": 16,
   "id": "7ad36be3",
   "metadata": {},
   "outputs": [
    {
     "name": "stdout",
     "output_type": "stream",
     "text": [
      "Доверительный интервал (164.77011888269857, 183.6298811173014)\n"
     ]
    }
   ],
   "source": [
    "#  M + z(alpha/2)*sigma/sqrt(n)\n",
    "#  M - z(alpha/2)*sigma/sqrt(n)\n",
    "\n",
    "z = stats.norm.ppf(alpha/2)\n",
    "\n",
    "x1 = M + z*sigma/np.sqrt(n)\n",
    "x2 = M - z*sigma/np.sqrt(n)\n",
    "print(f'Доверительный интервал ({x1}, {x2})')"
   ]
  },
  {
   "cell_type": "code",
   "execution_count": null,
   "id": "65722697",
   "metadata": {},
   "outputs": [],
   "source": []
  }
 ],
 "metadata": {
  "kernelspec": {
   "display_name": "Python 3 (ipykernel)",
   "language": "python",
   "name": "python3"
  },
  "language_info": {
   "codemirror_mode": {
    "name": "ipython",
    "version": 3
   },
   "file_extension": ".py",
   "mimetype": "text/x-python",
   "name": "python",
   "nbconvert_exporter": "python",
   "pygments_lexer": "ipython3",
   "version": "3.10.9"
  }
 },
 "nbformat": 4,
 "nbformat_minor": 5
}
